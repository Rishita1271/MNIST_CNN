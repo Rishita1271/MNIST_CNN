{
  "nbformat": 4,
  "nbformat_minor": 0,
  "metadata": {
    "colab": {
      "name": "Small_ConvNet_on_MNIST.ipynb",
      "provenance": [],
      "collapsed_sections": []
    },
    "kernelspec": {
      "name": "python3",
      "display_name": "Python 3"
    },
    "language_info": {
      "name": "python"
    }
  },
  "cells": [
    {
      "cell_type": "markdown",
      "metadata": {
        "id": "ujsi6rX0Yt4T"
      },
      "source": [
        "## Data Preparation"
      ]
    },
    {
      "cell_type": "code",
      "metadata": {
        "id": "7eqj1FBZYvu-"
      },
      "source": [
        "from keras.datasets import mnist\n",
        "from tensorflow.keras.utils import to_categorical "
      ],
      "execution_count": 4,
      "outputs": []
    },
    {
      "cell_type": "code",
      "metadata": {
        "id": "I3CVFj6XY39d"
      },
      "source": [
        "(X_train,Y_train),(X_test,Y_test) = mnist.load_data()"
      ],
      "execution_count": 14,
      "outputs": []
    },
    {
      "cell_type": "code",
      "metadata": {
        "colab": {
          "base_uri": "https://localhost:8080/"
        },
        "id": "16_hPOejZpNV",
        "outputId": "966c7fd6-a528-4c63-a8f1-6ec455cf62de"
      },
      "source": [
        "print(X_train.shape,Y_train.shape)\n",
        "print(X_test.shape,Y_test.shape)"
      ],
      "execution_count": 15,
      "outputs": [
        {
          "output_type": "stream",
          "name": "stdout",
          "text": [
            "(60000, 28, 28) (60000,)\n",
            "(10000, 28, 28) (10000,)\n"
          ]
        }
      ]
    },
    {
      "cell_type": "code",
      "metadata": {
        "id": "YneQWf2OZw4V"
      },
      "source": [
        "def process_data(X,Y):\n",
        "  X = X.reshape((-1,28,28,1))\n",
        "  X = X/255.0    #normalization\n",
        "  Y = to_categorical(Y)\n",
        "\n",
        "  return X,Y"
      ],
      "execution_count": 16,
      "outputs": []
    },
    {
      "cell_type": "code",
      "metadata": {
        "id": "PYUlChoXaSkQ"
      },
      "source": [
        "X_train,Y_train = process_data(X_train,Y_train)\n",
        "X_test,Y_test = process_data(X_test,Y_test)"
      ],
      "execution_count": 17,
      "outputs": []
    },
    {
      "cell_type": "code",
      "metadata": {
        "colab": {
          "base_uri": "https://localhost:8080/"
        },
        "id": "ELF_HJsiaez_",
        "outputId": "9af7df5e-443c-42af-bbe6-7133e65c6f09"
      },
      "source": [
        "print(X_train.shape,Y_train.shape)\n",
        "print(X_test.shape,Y_test.shape)"
      ],
      "execution_count": 18,
      "outputs": [
        {
          "output_type": "stream",
          "name": "stdout",
          "text": [
            "(60000, 28, 28, 1) (60000, 10)\n",
            "(10000, 28, 28, 1) (10000, 10)\n"
          ]
        }
      ]
    },
    {
      "cell_type": "markdown",
      "metadata": {
        "id": "L09MPWbRbEKA"
      },
      "source": [
        "## Building a Convnet"
      ]
    },
    {
      "cell_type": "code",
      "metadata": {
        "id": "vWV75-aNbIQU"
      },
      "source": [
        "from keras.layers import *\n",
        "from keras.models import Sequential\n",
        "from keras.preprocessing import image\n",
        "import matplotlib.pyplot as plt"
      ],
      "execution_count": 20,
      "outputs": []
    },
    {
      "cell_type": "code",
      "metadata": {
        "colab": {
          "base_uri": "https://localhost:8080/",
          "height": 265
        },
        "id": "N1FI2oi9bU5q",
        "outputId": "2f083591-3af7-486e-a177-b52d7db2116d"
      },
      "source": [
        "plt.imshow(X_train[1].reshape((28,28)),cmap='gray')\n",
        "plt.show()"
      ],
      "execution_count": 23,
      "outputs": [
        {
          "output_type": "display_data",
          "data": {
            "image/png": "[encoded data removed]",
            "text/plain": [
              "<Figure size 432x288 with 1 Axes>"
            ]
          },
          "metadata": {
            "needs_background": "light"
          }
        }
      ]
    },
    {
      "cell_type": "code",
      "metadata": {
        "colab": {
          "base_uri": "https://localhost:8080/"
        },
        "id": "VdlQLNgsb1Ea",
        "outputId": "ac275e42-0062-489a-c954-9b6245fd3cdc"
      },
      "source": [
        "model = Sequential()\n",
        "model.add(Conv2D(32,(3,3),activation='relu',input_shape=(28,28,1)))   #No of filters=32\n",
        "model.add(MaxPool2D(2,2))                                             #Pool size=(2,2) and stride=(2,2)\n",
        "model.add(Conv2D(64,(3,3),activation='relu',input_shape=(28,28,1)))   #No of filters=64\n",
        "model.add(MaxPool2D(2,2))                                             #Pool size=(2,2) and stride=(2,2)\n",
        "model.add(Conv2D(64,(3,3),activation='relu',input_shape=(28,28,1)))   #No of filters=64\n",
        "model.add(Flatten())\n",
        "model.add(Dense(64,activation='relu'))\n",
        "model.add(Dense(10,activation='softmax'))\n",
        "\n",
        "model.summary()"
      ],
      "execution_count": 31,
      "outputs": [
        {
          "output_type": "stream",
          "name": "stdout",
          "text": [
            "Model: \"sequential_5\"\n",
            "_________________________________________________________________\n",
            "Layer (type)                 Output Shape              Param #   \n",
            "=================================================================\n",
            "conv2d_15 (Conv2D)           (None, 26, 26, 32)        320       \n",
            "_________________________________________________________________\n",
            "max_pooling2d_15 (MaxPooling (None, 13, 13, 32)        0         \n",
            "_________________________________________________________________\n",
            "conv2d_16 (Conv2D)           (None, 11, 11, 64)        18496     \n",
            "_________________________________________________________________\n",
            "max_pooling2d_16 (MaxPooling (None, 5, 5, 64)          0         \n",
            "_________________________________________________________________\n",
            "conv2d_17 (Conv2D)           (None, 3, 3, 64)          36928     \n",
            "_________________________________________________________________\n",
            "flatten_3 (Flatten)          (None, 576)               0         \n",
            "_________________________________________________________________\n",
            "dense_6 (Dense)              (None, 64)                36928     \n",
            "_________________________________________________________________\n",
            "dense_7 (Dense)              (None, 10)                650       \n",
            "=================================================================\n",
            "Total params: 93,322\n",
            "Trainable params: 93,322\n",
            "Non-trainable params: 0\n",
            "_________________________________________________________________\n"
          ]
        }
      ]
    },
    {
      "cell_type": "code",
      "metadata": {
        "id": "Bqy1eBSOdn6N"
      },
      "source": [
        "model.compile(loss='categorical_crossentropy',metrics='accuracy',optimizer='adam')"
      ],
      "execution_count": 32,
      "outputs": []
    },
    {
      "cell_type": "code",
      "metadata": {
        "colab": {
          "base_uri": "https://localhost:8080/"
        },
        "id": "DbZhGVoqe0Xr",
        "outputId": "3a5a6b89-715d-4ade-cb14-016ae8480781"
      },
      "source": [
        "model.fit(X_train,Y_train,epochs=20,batch_size=128,validation_split=0.1)"
      ],
      "execution_count": 33,
      "outputs": [
        {
          "output_type": "stream",
          "name": "stdout",
          "text": [
            "Epoch 1/20\n",
            "422/422 [==============================] - 46s 107ms/step - loss: 0.2691 - accuracy: 0.9211 - val_loss: 0.0689 - val_accuracy: 0.9797\n",
            "Epoch 2/20\n",
            "422/422 [==============================] - 45s 106ms/step - loss: 0.0624 - accuracy: 0.9800 - val_loss: 0.0470 - val_accuracy: 0.9862\n",
            "Epoch 3/20\n",
            "422/422 [==============================] - 45s 106ms/step - loss: 0.0433 - accuracy: 0.9862 - val_loss: 0.0487 - val_accuracy: 0.9867\n",
            "Epoch 4/20\n",
            "422/422 [==============================] - 44s 105ms/step - loss: 0.0340 - accuracy: 0.9889 - val_loss: 0.0403 - val_accuracy: 0.9885\n",
            "Epoch 5/20\n",
            "422/422 [==============================] - 44s 104ms/step - loss: 0.0271 - accuracy: 0.9914 - val_loss: 0.0344 - val_accuracy: 0.9898\n",
            "Epoch 6/20\n",
            "422/422 [==============================] - 45s 106ms/step - loss: 0.0227 - accuracy: 0.9924 - val_loss: 0.0372 - val_accuracy: 0.9902\n",
            "Epoch 7/20\n",
            "422/422 [==============================] - 45s 106ms/step - loss: 0.0195 - accuracy: 0.9937 - val_loss: 0.0325 - val_accuracy: 0.9913\n",
            "Epoch 8/20\n",
            "422/422 [==============================] - 45s 106ms/step - loss: 0.0159 - accuracy: 0.9950 - val_loss: 0.0380 - val_accuracy: 0.9908\n",
            "Epoch 9/20\n",
            "422/422 [==============================] - 44s 105ms/step - loss: 0.0128 - accuracy: 0.9959 - val_loss: 0.0362 - val_accuracy: 0.9908\n",
            "Epoch 10/20\n",
            "422/422 [==============================] - 44s 105ms/step - loss: 0.0110 - accuracy: 0.9962 - val_loss: 0.0358 - val_accuracy: 0.9905\n",
            "Epoch 11/20\n",
            "422/422 [==============================] - 44s 104ms/step - loss: 0.0104 - accuracy: 0.9971 - val_loss: 0.0463 - val_accuracy: 0.9875\n",
            "Epoch 12/20\n",
            "422/422 [==============================] - 44s 103ms/step - loss: 0.0092 - accuracy: 0.9968 - val_loss: 0.0409 - val_accuracy: 0.9908\n",
            "Epoch 13/20\n",
            "422/422 [==============================] - 44s 105ms/step - loss: 0.0085 - accuracy: 0.9974 - val_loss: 0.0377 - val_accuracy: 0.9915\n",
            "Epoch 14/20\n",
            "422/422 [==============================] - 44s 105ms/step - loss: 0.0065 - accuracy: 0.9979 - val_loss: 0.0389 - val_accuracy: 0.9920\n",
            "Epoch 15/20\n",
            "422/422 [==============================] - 44s 105ms/step - loss: 0.0065 - accuracy: 0.9979 - val_loss: 0.0407 - val_accuracy: 0.9915\n",
            "Epoch 16/20\n",
            "422/422 [==============================] - 44s 104ms/step - loss: 0.0082 - accuracy: 0.9974 - val_loss: 0.0337 - val_accuracy: 0.9922\n",
            "Epoch 17/20\n",
            "422/422 [==============================] - 44s 105ms/step - loss: 0.0073 - accuracy: 0.9974 - val_loss: 0.0487 - val_accuracy: 0.9902\n",
            "Epoch 18/20\n",
            "422/422 [==============================] - 44s 104ms/step - loss: 0.0058 - accuracy: 0.9981 - val_loss: 0.0514 - val_accuracy: 0.9910\n",
            "Epoch 19/20\n",
            "422/422 [==============================] - 44s 104ms/step - loss: 0.0041 - accuracy: 0.9987 - val_loss: 0.0461 - val_accuracy: 0.9925\n",
            "Epoch 20/20\n",
            "422/422 [==============================] - 44s 105ms/step - loss: 0.0046 - accuracy: 0.9984 - val_loss: 0.0528 - val_accuracy: 0.9897\n"
          ]
        },
        {
          "output_type": "execute_result",
          "data": {
            "text/plain": [
              "<keras.callbacks.History at 0x7fb34322b110>"
            ]
          },
          "metadata": {},
          "execution_count": 33
        }
      ]
    },
    {
      "cell_type": "code",
      "metadata": {
        "colab": {
          "base_uri": "https://localhost:8080/"
        },
        "id": "Bd00nJVEfGiv",
        "outputId": "c738b8ae-6471-49c7-fb39-9082ee98565d"
      },
      "source": [
        "model.evaluate(X_test,Y_test)                        ##Getting ~99% accuracy on testing data "
      ],
      "execution_count": 44,
      "outputs": [
        {
          "output_type": "stream",
          "name": "stdout",
          "text": [
            "313/313 [==============================] - 3s 11ms/step - loss: 0.0387 - accuracy: 0.9899\n"
          ]
        },
        {
          "output_type": "execute_result",
          "data": {
            "text/plain": [
              "[0.038706518709659576, 0.9898999929428101]"
            ]
          },
          "metadata": {},
          "execution_count": 44
        }
      ]
    },
    {
      "cell_type": "code",
      "metadata": {
        "id": "Z7IM629Yi7iH"
      },
      "source": [
        ""
      ],
      "execution_count": 43,
      "outputs": []
    },
    {
      "cell_type": "code",
      "metadata": {
        "id": "qAhS4oQpjDfe"
      },
      "source": [
        ""
      ],
      "execution_count": 43,
      "outputs": []
    },
    {
      "cell_type": "code",
      "metadata": {
        "id": "4eMbajyrjiJm"
      },
      "source": [
        ""
      ],
      "execution_count": 43,
      "outputs": []
    },
    {
      "cell_type": "code",
      "metadata": {
        "id": "YuAYwGQXjvhx"
      },
      "source": [
        ""
      ],
      "execution_count": null,
      "outputs": []
    }
  ]
}